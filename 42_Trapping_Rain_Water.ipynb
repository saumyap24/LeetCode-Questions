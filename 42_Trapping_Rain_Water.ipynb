{
 "cells": [
  {
   "cell_type": "markdown",
   "id": "b5de1a9e",
   "metadata": {},
   "source": [
    "# Level: Hard "
   ]
  },
  {
   "attachments": {
    "image.png": {
     "image/png": "[encoded data removed]"
    }
   },
   "cell_type": "markdown",
   "id": "9e68a98b",
   "metadata": {},
   "source": [
    "Given n non-negative integers representing an elevation map where the width of each bar is 1, compute how much water it can trap after raining.\n",
    "\n",
    " \n",
    "\n",
    "Example 1:\n",
    "\n",
    "![image.png](attachment:image.png)\n",
    "\n",
    "Input: height = [0,1,0,2,1,0,1,3,2,1,2,1]\n",
    "Output: 6\n",
    "Explanation: The above elevation map (black section) is represented by array [0,1,0,2,1,0,1,3,2,1,2,1]. In this case, 6 units of rain water (blue section) are being trapped.\n",
    "Example 2:\n",
    "\n",
    "Input: height = [4,2,0,3,2,5]\n",
    "Output: 9\n",
    " \n",
    "\n",
    "Constraints:\n",
    "\n",
    "n == height.length\n",
    "1 <= n <= 2 * 104\n",
    "0 <= height[i] <= 105\n",
    "\n",
    "https://leetcode.com/problems/trapping-rain-water/"
   ]
  },
  {
   "cell_type": "markdown",
   "id": "ea047de5",
   "metadata": {},
   "source": [
    "Explaination: https://www.youtube.com/watch?v=FbGG2qpNp4U&list=RDCMUC5WO7o71wvxMxEtLRkPhiQQ&index=7\n",
    "https://www.geeksforgeeks.org/trapping-rain-water/"
   ]
  },
  {
   "cell_type": "code",
   "execution_count": 131,
   "id": "eb787233",
   "metadata": {},
   "outputs": [],
   "source": [
    "from typing import List\n",
    "class Solution:\n",
    "    def trap(self, height: List[int]) -> int:\n",
    "        mxr = []\n",
    "        mxl = []\n",
    "        mxl.append(height[0])\n",
    "        for i in range(1,len(height)):\n",
    "            mxl.append(max(mxl[i-1],height[i]))\n",
    "        height.reverse()\n",
    "        mxr.append(height[0])\n",
    "        for j in range(1,len(height)):\n",
    "            mxr.append(max(height[j],mxr[j-1]))\n",
    "        height.reverse()\n",
    "        mxr.reverse()\n",
    "        water = 0\n",
    "        for k in range(len(height)):\n",
    "            water += ((min(mxl[k],mxr[k])) - height[k])\n",
    "        return water\n",
    "        "
   ]
  },
  {
   "cell_type": "code",
   "execution_count": 132,
   "id": "1f29cfa2",
   "metadata": {},
   "outputs": [],
   "source": [
    "height = [0,1,0,2,1,0,1,3,2,1,2,1]"
   ]
  },
  {
   "cell_type": "code",
   "execution_count": 133,
   "id": "1b2d3140",
   "metadata": {},
   "outputs": [
    {
     "data": {
      "text/plain": [
       "6"
      ]
     },
     "execution_count": 133,
     "metadata": {},
     "output_type": "execute_result"
    }
   ],
   "source": [
    "sol = Solution()\n",
    "sol.trap(height)"
   ]
  },
  {
   "cell_type": "code",
   "execution_count": 138,
   "id": "b74d0a9b",
   "metadata": {},
   "outputs": [
    {
     "name": "stdout",
     "output_type": "stream",
     "text": [
      "list:  [0, 1, 0, 2, 1, 0, 1, 3, 2, 1, 2, 1]\n",
      "list enumerate:  [(0, 0), (1, 1), (2, 0), (3, 2), (4, 1), (5, 0), (6, 1), (7, 3), (8, 2), (9, 1), (10, 2), (11, 1)]\n",
      "list enumerate:  <list_reverseiterator object at 0x00000213FD8048E0>\n",
      "11 1\n",
      "10 2\n",
      "9 1\n",
      "8 2\n",
      "7 3\n",
      "6 1\n",
      "5 0\n",
      "4 1\n",
      "3 2\n",
      "2 0\n",
      "1 1\n",
      "0 0\n"
     ]
    },
    {
     "data": {
      "text/plain": [
       "6"
      ]
     },
     "execution_count": 138,
     "metadata": {},
     "output_type": "execute_result"
    }
   ],
   "source": [
    "#different Method\n",
    "\n",
    "class Solution:\n",
    "    def trap(self, height: List[int]) -> int:\n",
    "        level = []\n",
    "        left, right = 0, 0\n",
    "        for i in height:\n",
    "            left = max(left, i)\n",
    "            level += [left]\n",
    "        print(\"list: \",list(height))\n",
    "        print(\"list enumerate: \",list(enumerate(height)))\n",
    "        print(\"list enumerate: \",reversed(list(enumerate(height))))\n",
    "        for j, h in reversed(list(enumerate(height))):\n",
    "            print(j,h)\n",
    "            right = max(right, h)\n",
    "            level[j] = (min(right, level[j]))-h\n",
    "        return sum(level)\n",
    "\n",
    "\n",
    "height = [0,1,0,2,1,0,1,3,2,1,2,1]\n",
    "sol = Solution()\n",
    "sol.trap(height)"
   ]
  },
  {
   "cell_type": "code",
   "execution_count": null,
   "id": "67605524",
   "metadata": {},
   "outputs": [],
   "source": []
  }
 ],
 "metadata": {
  "kernelspec": {
   "display_name": "Python 3 (ipykernel)",
   "language": "python",
   "name": "python3"
  },
  "language_info": {
   "codemirror_mode": {
    "name": "ipython",
    "version": 3
   },
   "file_extension": ".py",
   "mimetype": "text/x-python",
   "name": "python",
   "nbconvert_exporter": "python",
   "pygments_lexer": "ipython3",
   "version": "3.9.7"
  }
 },
 "nbformat": 4,
 "nbformat_minor": 5
}
