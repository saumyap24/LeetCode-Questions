{
 "cells": [
  {
   "cell_type": "markdown",
   "id": "f02816c0",
   "metadata": {},
   "source": [
    "# Level:Medium"
   ]
  },
  {
   "cell_type": "markdown",
   "id": "4b48c189",
   "metadata": {},
   "source": [
    "Given an array of integers nums and an integer k, return the total number of subarrays whose sum equals to k.\n",
    "\n",
    "A subarray is a contiguous non-empty sequence of elements within an array.\n",
    "\n",
    " \n",
    "\n",
    "Example 1:\n",
    "\n",
    "Input: nums = [1,1,1], k = 2\n",
    "Output: 2\n",
    "\n",
    "Example 2:\n",
    "\n",
    "Input: nums = [1,2,3], k = 3\n",
    "Output: 2\n",
    " \n",
    "\n",
    "Constraints:\n",
    "\n",
    "1 <= nums.length <= 2 * 104\n",
    "-1000 <= nums[i] <= 1000\n",
    "-107 <= k <= 107\n",
    "\n",
    "\n",
    "https://leetcode.com/problems/subarray-sum-equals-k/"
   ]
  },
  {
   "cell_type": "code",
   "execution_count": 3,
   "id": "1f6c0ea9",
   "metadata": {},
   "outputs": [
    {
     "data": {
      "text/plain": [
       "1"
      ]
     },
     "execution_count": 3,
     "metadata": {},
     "output_type": "execute_result"
    }
   ],
   "source": [
    "from typing import List\n",
    "\n",
    "class Solution:\n",
    "    def subarraySum(self, nums: List[int], k: int) -> int:\n",
    "        sum =0\n",
    "        count = 0\n",
    "        for i in range(len(nums)):\n",
    "            sum +=nums[i]\n",
    "            if(sum == k):\n",
    "                count +=1\n",
    "        return count\n",
    "    \n",
    "    \n",
    "sol = Solution()\n",
    "sol.subarraySum([1,1,1],2)"
   ]
  },
  {
   "cell_type": "code",
   "execution_count": null,
   "id": "3c2940c7",
   "metadata": {},
   "outputs": [],
   "source": []
  }
 ],
 "metadata": {
  "kernelspec": {
   "display_name": "Python 3 (ipykernel)",
   "language": "python",
   "name": "python3"
  },
  "language_info": {
   "codemirror_mode": {
    "name": "ipython",
    "version": 3
   },
   "file_extension": ".py",
   "mimetype": "text/x-python",
   "name": "python",
   "nbconvert_exporter": "python",
   "pygments_lexer": "ipython3",
   "version": "3.9.7"
  }
 },
 "nbformat": 4,
 "nbformat_minor": 5
}
