{
 "cells": [
  {
   "cell_type": "markdown",
   "id": "729dcc69",
   "metadata": {},
   "source": [
    "Given a string s containing just the characters '(', ')', '{', '}', '[' and ']', determine if the input string is valid.\n",
    "\n",
    "An input string is valid if:\n",
    "\n",
    "Open brackets must be closed by the same type of brackets.\n",
    "Open brackets must be closed in the correct order.\n",
    " \n",
    "\n",
    "Example 1:\n",
    "\n",
    "Input: s = \"()\"\n",
    "Output: true\n",
    "Example 2:\n",
    "\n",
    "Input: s = \"()[]{}\"\n",
    "Output: true\n",
    "Example 3:\n",
    "\n",
    "Input: s = \"(]\"\n",
    "Output: false\n",
    " \n",
    "\n",
    "Constraints:\n",
    "\n",
    "1 <= s.length <= 104\n",
    "s consists of parentheses only '()[]{}'."
   ]
  },
  {
   "cell_type": "code",
   "execution_count": 1,
   "id": "21277e4a",
   "metadata": {},
   "outputs": [],
   "source": [
    "class Solution(object):\n",
    "    def isValid(self, s):\n",
    "        \"\"\"\n",
    "        :type s: str\n",
    "        :rtype: bool\n",
    "        \"\"\"\n",
    "        stack = [] #stack to keep track of opening brackets\n",
    "        mapping = {\"}\": \"{\",\"]\":\"[\",\")\":\"(\"} #to keep track of mappings\n",
    "        \n",
    "        for char in s:\n",
    "            print(\"char: \", char)\n",
    "            if char in mapping:\n",
    "                print(\"map char:\",char)\n",
    "                # top_element = stack.pop() \n",
    "                #pop the top most element from the stack if it is non empty otherwise fill it with dummy value\n",
    "                #if (len(stack)):\n",
    "                top_element = stack.pop() if stack else '#'\n",
    "                # else:\n",
    "                    # stack.append('#')\n",
    "                print(\"top_element: \", top_element)   \n",
    "                #the mapping for the opening bracket in our hash and the top element of the stack don't match\n",
    "                #then return false\n",
    "                if (mapping[char] != top_element):\n",
    "                    return False\n",
    "            else:\n",
    "                stack.append(char)\n",
    "        return not stack   \n",
    "                \n",
    "                \n",
    "# Algorithm\n",
    "\n",
    "#1. Initialize a stack S.\n",
    "#2. Process each bracket of the expression one at a time.\n",
    "#3. If we encounter an opening bracket, we simply push it onto the stack. This means we will process it later, let us simply move onto the sub-expression ahead.\n",
    "#4. If we encounter a closing bracket, then we check the element on top of the stack. If the element at the top of the stack is an opening bracket of the same type, then we pop it off the stack and continue processing. Else, this implies an invalid expression.\n",
    "#5.  In the end, if we are left with a stack still having elements, then this implies an invalid expression."
   ]
  },
  {
   "cell_type": "code",
   "execution_count": null,
   "id": "bbf050cf",
   "metadata": {},
   "outputs": [],
   "source": []
  }
 ],
 "metadata": {
  "kernelspec": {
   "display_name": "Python 3 (ipykernel)",
   "language": "python",
   "name": "python3"
  },
  "language_info": {
   "codemirror_mode": {
    "name": "ipython",
    "version": 3
   },
   "file_extension": ".py",
   "mimetype": "text/x-python",
   "name": "python",
   "nbconvert_exporter": "python",
   "pygments_lexer": "ipython3",
   "version": "3.9.7"
  }
 },
 "nbformat": 4,
 "nbformat_minor": 5
}
