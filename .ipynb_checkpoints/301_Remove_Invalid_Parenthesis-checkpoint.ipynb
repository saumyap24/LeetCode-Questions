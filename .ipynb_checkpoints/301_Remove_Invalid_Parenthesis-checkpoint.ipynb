{
 "cells": [
  {
   "cell_type": "markdown",
   "id": "db54d2cc",
   "metadata": {},
   "source": [
    "# Level: Hard"
   ]
  },
  {
   "cell_type": "markdown",
   "id": "3e661f59",
   "metadata": {},
   "source": [
    "Given a string s that contains parentheses and letters, remove the minimum number of invalid parentheses to make the input string valid.\n",
    "\n",
    "Return all the possible results. You may return the answer in any order.\n",
    "\n",
    " \n",
    "\n",
    "Example 1:\n",
    "\n",
    "Input: s = \"()())()\"\n",
    "Output: [\"(())()\",\"()()()\"]\n",
    "Example 2:\n",
    "\n",
    "Input: s = \"(a)())()\"\n",
    "Output: [\"(a())()\",\"(a)()()\"]\n",
    "Example 3:\n",
    "\n",
    "Input: s = \")(\"\n",
    "Output: [\"\"]\n",
    " \n",
    "\n",
    "Constraints:\n",
    "\n",
    "1 <= s.length <= 25\n",
    "s consists of lowercase English letters and parentheses '(' and ')'.\n",
    "There will be at most 20 parentheses in s.\n",
    "\n",
    "\n",
    "https://leetcode.com/problems/remove-invalid-parentheses/\n"
   ]
  }
 ],
 "metadata": {
  "kernelspec": {
   "display_name": "Python 3 (ipykernel)",
   "language": "python",
   "name": "python3"
  },
  "language_info": {
   "codemirror_mode": {
    "name": "ipython",
    "version": 3
   },
   "file_extension": ".py",
   "mimetype": "text/x-python",
   "name": "python",
   "nbconvert_exporter": "python",
   "pygments_lexer": "ipython3",
   "version": "3.9.7"
  }
 },
 "nbformat": 4,
 "nbformat_minor": 5
}
