{
 "cells": [
  {
   "cell_type": "markdown",
   "id": "c82deaba",
   "metadata": {},
   "source": [
    "# Level: Medium "
   ]
  },
  {
   "cell_type": "markdown",
   "id": "1ab9426a",
   "metadata": {},
   "source": [
    "Given an integer array nums, return all the triplets [nums[i], nums[j], nums[k]] such that i != j, i != k, and j != k, and nums[i] + nums[j] + nums[k] == 0.\n",
    "\n",
    "Notice that the solution set must not contain duplicate triplets.\n",
    "\n",
    " \n",
    "\n",
    "Example 1:\n",
    "\n",
    "Input: nums = [-1,0,1,2,-1,-4]\n",
    "Output: [[-1,-1,2],[-1,0,1]]\n",
    "\n",
    "Explanation: \n",
    "nums[0] + nums[1] + nums[1] = (-1) + 0 + 1 = 0.\n",
    "nums[1] + nums[2] + nums[4] = 0 + 1 + (-1) = 0.\n",
    "nums[0] + nums[3] + nums[4] = (-1) + 2 + (-1) = 0.\n",
    "The distinct triplets are [-1,0,1] and [-1,-1,2].\n",
    "Notice that the order of the output and the order of the triplets does not matter.\n",
    "\n",
    "Example 2:\n",
    "\n",
    "Input: nums = [0,1,1]\n",
    "Output: []\n",
    "Explanation: The only possible triplet does not sum up to 0.\n",
    "\n",
    "Example 3:\n",
    "\n",
    "Input: nums = [0,0,0]\n",
    "Output: [[0,0,0]]\n",
    "Explanation: The only possible triplet sums up to 0.\n",
    " \n",
    "\n",
    "Constraints:\n",
    "\n",
    "3 <= nums.length <= 3000\n",
    "-105 <= nums[i] <= 105\n",
    "\n",
    "https://leetcode.com/problems/3sum/"
   ]
  },
  {
   "cell_type": "code",
   "execution_count": 46,
   "id": "0f57e31c",
   "metadata": {},
   "outputs": [
    {
     "name": "stdout",
     "output_type": "stream",
     "text": [
      "[[-2, 0, 2], [0, 0, 0]]\n"
     ]
    }
   ],
   "source": [
    "from typing import List\n",
    "\n",
    "class Solution:\n",
    "    def threeSum(self, nums: List[int]) -> List[List[int]]:\n",
    "        nums.sort()\n",
    "        k = len(nums)\n",
    "        result = []\n",
    "#         nums = list(set(nums)) \n",
    "        for i in range(len(nums)):\n",
    "            if i>0 and nums[i] == nums[i-1]:\n",
    "                continue\n",
    "            low = i+1\n",
    "            high = k-1\n",
    "            while (low<high+1):\n",
    "                threeSum = nums[i] + nums[low] +nums[high]\n",
    "                if (threeSum < 0):\n",
    "                    low +=1\n",
    "                elif (threeSum > 0):\n",
    "                    high -=1\n",
    "                else:\n",
    "                    value = [nums[i], nums[low], nums[high]]\n",
    "                    low += 1\n",
    "                    result.append(value)\n",
    "                    while nums[low] == nums[low-1] and low<high:\n",
    "                        low+=1\n",
    "        return result\n",
    "                \n",
    "sol = Solution()\n",
    "print(sol.threeSum([-2,0,0,2,2]))"
   ]
  },
  {
   "cell_type": "code",
   "execution_count": null,
   "id": "ed15914c",
   "metadata": {},
   "outputs": [],
   "source": [
    "#Algorithm\n",
    "# 1. Sort the given array \n",
    "# 2."
   ]
  },
  {
   "cell_type": "code",
   "execution_count": 23,
   "id": "42f9d410",
   "metadata": {},
   "outputs": [],
   "source": [
    "#Approch -2 No sort"
   ]
  },
  {
   "cell_type": "code",
   "execution_count": 24,
   "id": "e8d0e7f0",
   "metadata": {},
   "outputs": [],
   "source": [
    "# Algorithm\n",
    "\n",
    "# The algorithm is similar to the hashset approach above. We just need to add few optimizations so that it works efficiently for repeated values:\n",
    "\n",
    "# Use another hashset dups to skip duplicates in the outer loop.\n",
    "# Without this optimization, the submission will time out for the test case with 3,000 zeroes. This case is handled naturally when the array is sorted.\n",
    "# Instead of re-populating a hashset every time in the inner loop, we can use a hashmap and populate it once. Values in the hashmap will indicate whether we have encountered that element in the current iteration. When we process nums[j] in the inner loop, we set its hashmap value to i. This indicates that we can now use nums[j] as a complement for nums[i].\n",
    "# This is more like a trick to compensate for container overheads. The effect varies by language, e.g. for C++ it cuts the runtime in half. Without this trick the submission may time out."
   ]
  },
  {
   "cell_type": "code",
   "execution_count": 28,
   "id": "02e6b781",
   "metadata": {},
   "outputs": [
    {
     "name": "stdout",
     "output_type": "stream",
     "text": [
      "{(-2, 0, 2)}\n"
     ]
    }
   ],
   "source": [
    "class Solution:\n",
    "    def threeSum(self, nums: List[int]) -> List[List[int]]:\n",
    "        res, dups = set(), set()\n",
    "        seen = {}\n",
    "        for i, val1 in enumerate(nums):\n",
    "            if val1 not in dups:\n",
    "                dups.add(val1)\n",
    "                for j, val2 in enumerate(nums[i+1:]):\n",
    "                    complement = -val1 - val2\n",
    "                    if complement in seen and seen[complement] == i:\n",
    "                        res.add(tuple(sorted((val1, val2, complement))))\n",
    "                    seen[val2] = i\n",
    "        return res\n",
    "    \n",
    "sol = Solution()\n",
    "print(sol.threeSum([-2,0,0,2,2]))"
   ]
  },
  {
   "cell_type": "code",
   "execution_count": 41,
   "id": "7f048074",
   "metadata": {},
   "outputs": [
    {
     "name": "stdout",
     "output_type": "stream",
     "text": [
      "[(0, -2), (1, 0), (2, 0), (3, 2), (4, 2)]\n",
      "0 -2\n",
      "1 0\n",
      "2 0\n",
      "3 2\n",
      "4 2\n",
      "[[-2, 0, 2]]\n"
     ]
    }
   ],
   "source": [
    "class Solution:\n",
    "    def threeSum(self, nums: List[int]) -> List[List[int]]:\n",
    "        result = []\n",
    "        nums.sort()\n",
    "        print(list(enumerate(nums)))\n",
    "        for i, n in enumerate(nums):\n",
    "            print(i,n)\n",
    "            if i > 0 and n == nums[i - 1]:\n",
    "                continue\n",
    "\n",
    "            l, r = i + 1, len(nums) - 1\n",
    "            while l < r:\n",
    "                s = n + nums[l] + nums[r]\n",
    "                if s > 0:\n",
    "                    r -= 1\n",
    "                elif s < 0:\n",
    "                    l += 1\n",
    "                else:\n",
    "                    result.append([n, nums[l], nums[r]])\n",
    "                    l += 1\n",
    "                    while nums[l] == nums[l - 1] and l < r:\n",
    "                        l += 1\n",
    "        return result\n",
    "    \n",
    "sol = Solution()\n",
    "print(sol.threeSum([-2,0,0,2,2]))          "
   ]
  },
  {
   "cell_type": "code",
   "execution_count": null,
   "id": "f56641ad",
   "metadata": {},
   "outputs": [],
   "source": []
  }
 ],
 "metadata": {
  "kernelspec": {
   "display_name": "Python 3 (ipykernel)",
   "language": "python",
   "name": "python3"
  },
  "language_info": {
   "codemirror_mode": {
    "name": "ipython",
    "version": 3
   },
   "file_extension": ".py",
   "mimetype": "text/x-python",
   "name": "python",
   "nbconvert_exporter": "python",
   "pygments_lexer": "ipython3",
   "version": "3.9.7"
  }
 },
 "nbformat": 4,
 "nbformat_minor": 5
}
