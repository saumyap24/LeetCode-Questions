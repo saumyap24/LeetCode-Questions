{
 "cells": [
  {
   "cell_type": "markdown",
   "id": "dac8b798",
   "metadata": {},
   "source": [
    "# Level : Medium"
   ]
  },
  {
   "cell_type": "markdown",
   "id": "a7c7e276",
   "metadata": {},
   "source": [
    "Given a signed 32-bit integer x, return x with its digits reversed. If reversing x causes the value to go outside the signed 32-bit integer range [-231, 231 - 1], then return 0.\n",
    "\n",
    "Assume the environment does not allow you to store 64-bit integers (signed or unsigned).\n",
    "\n",
    " \n",
    "\n",
    "Example 1:\n",
    "\n",
    "Input: x = 123\n",
    "Output: 321\n",
    "Example 2:\n",
    "\n",
    "Input: x = -123\n",
    "Output: -321\n",
    "Example 3:\n",
    "\n",
    "Input: x = 120\n",
    "Output: 21\n",
    " \n",
    "\n",
    "Constraints:\n",
    "\n",
    "-231 <= x <= 231 - 1\n",
    "\n",
    "https://leetcode.com/problems/reverse-integer/"
   ]
  },
  {
   "cell_type": "code",
   "execution_count": 42,
   "id": "4f059729",
   "metadata": {},
   "outputs": [
    {
     "data": {
      "text/plain": [
       "0"
      ]
     },
     "execution_count": 42,
     "metadata": {},
     "output_type": "execute_result"
    }
   ],
   "source": [
    "x =-123\n",
    "\n",
    "\n",
    "class Solution:\n",
    "    def reverse(self, x: int) -> int:\n",
    "        if x>=2**31 -1 or x<= -2**31: \n",
    "            print(\"greater than 32 bits\") \n",
    "            return 0\n",
    "        else:\n",
    "            if x>=0:\n",
    "                rev_string = str(x)[::-1]\n",
    "            else:\n",
    "                num = str(x)[1:]\n",
    "                rev_string = \"-\" +str(num)[::-1]\n",
    "            if (int(rev_string)>=2**31 -1) or (int(rev_string)<= -2**31): return 0\n",
    "            else: return int(rev_string)\n",
    "ls = Solution()    \n",
    "ls.reverse(1534236469)"
   ]
  },
  {
   "cell_type": "code",
   "execution_count": 39,
   "id": "87d62cf9",
   "metadata": {},
   "outputs": [
    {
     "data": {
      "text/plain": [
       "-321"
      ]
     },
     "execution_count": 39,
     "metadata": {},
     "output_type": "execute_result"
    }
   ],
   "source": [
    "ls.reverse(-123)"
   ]
  },
  {
   "cell_type": "code",
   "execution_count": 40,
   "id": "511f1509",
   "metadata": {},
   "outputs": [
    {
     "data": {
      "text/plain": [
       "321"
      ]
     },
     "execution_count": 40,
     "metadata": {},
     "output_type": "execute_result"
    }
   ],
   "source": [
    "ls.reverse(123)"
   ]
  }
 ],
 "metadata": {
  "kernelspec": {
   "display_name": "Python 3 (ipykernel)",
   "language": "python",
   "name": "python3"
  },
  "language_info": {
   "codemirror_mode": {
    "name": "ipython",
    "version": 3
   },
   "file_extension": ".py",
   "mimetype": "text/x-python",
   "name": "python",
   "nbconvert_exporter": "python",
   "pygments_lexer": "ipython3",
   "version": "3.9.7"
  }
 },
 "nbformat": 4,
 "nbformat_minor": 5
}
